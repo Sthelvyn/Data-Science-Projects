{
  "nbformat": 4,
  "nbformat_minor": 0,
  "metadata": {
    "colab": {
      "provenance": [],
      "include_colab_link": true
    },
    "kernelspec": {
      "name": "python3",
      "display_name": "Python 3"
    }
  },
  "cells": [
    {
      "cell_type": "markdown",
      "metadata": {
        "id": "view-in-github",
        "colab_type": "text"
      },
      "source": [
        "<a href=\"https://colab.research.google.com/github/Sthelvyn/Data-Science-Projects/blob/main/An%C3%A1lise_Explorat%C3%B3ria_dos_dados_do_AirBnB_(Montreal).ipynb\" target=\"_parent\"><img src=\"https://colab.research.google.com/assets/colab-badge.svg\" alt=\"Open In Colab\"/></a>"
      ]
    },
    {
      "cell_type": "markdown",
      "metadata": {
        "id": "kLI0gJtzDGuQ"
      },
      "source": [
        "<img alt=\"Colaboratory logo\" width=\"15%\" src=\"https://github.com/Sthelvyn/template_portfolio/blob/master/MOIS%C3%89S.png\">\n",
        "\n",
        "#### **Data Scientis & Analyst**\n",
        "*by [Moisés Sthelvyn](https://github.com/Sthelvyn/Data-Science-Projects)*\n",
        "\n",
        "---\n",
        "\n",
        "# Análise dos Dados do Airbnb - *Montreal*\n",
        "\n",
        "Pensar que a **maior empresa hoteleira da atualidadade** não possui **nenhum** hotel é, no mínimo, assustador!\n",
        "\n",
        "\n",
        "A plataforma inovadora do Airbnb conecta pessoas que queram viajar\n",
        "e se hospedar com hosts (anfitriões) que desejam alugar\n",
        "seus imóveis de forma fácil.\n",
        "\n",
        "Na véspera do ano novo de 2022, quase **4,5 milhões** de hóspedes\n",
        "ficaram em acomodações anunciadas na plataforma\n",
        "em mais de **53.000** destinos no mundo todo.\n",
        "\n",
        "Uma das iniciativas do Airbnb é disponibilizar dados do site, para algumas das principais cidades do mundo. Por meio do portal [Inside Airbnb](http://insideairbnb.com/get-the-data.html), é possível baixar uma grande quantidade de dados para desenvolver projetos e soluções de *Data Science*.\n",
        "\n",
        "<center><img alt=\"Analisando Airbnb\" width=\"10%\" src=\"https://www.area360.com.au/wp-content/uploads/2017/09/airbnb-logo.jpg\"></center>\n",
        "\n",
        "\n",
        "**Neste *notebook*, iremos analisar os dados referentes à cidade de Montreal, e ver quais insights podem ser extraídos a partir de dados brutos.**"
      ]
    },
    {
      "cell_type": "markdown",
      "metadata": {
        "id": "0zxQHhIUDF_2"
      },
      "source": [
        "## Obtenção dos Dados\n",
        "\n",
        "Todos os dados usados nessa análise foram obtidos a partir do site [Inside Airbnb](http://insideairbnb.com/get-the-data.html).\n",
        "\n",
        "Para essa análise exploratória, será baixado o seguinte arquivo:\n",
        "* 'Listing.csv' - *Summary information and metrics for listings in Montreal (good for visualisations).*"
      ]
    },
    {
      "cell_type": "code",
      "metadata": {
        "id": "Vhp2wMPgJ6zX"
      },
      "source": [
        "# importar os pacotes necessarios\n",
        "import pandas as pd\n",
        "import matplotlib.pyplot as plt\n",
        "import seaborn as sns\n",
        "\n",
        "%matplotlib inline"
      ],
      "execution_count": null,
      "outputs": []
    },
    {
      "cell_type": "markdown",
      "source": [
        "#### Vamos importar os dados do Airbnb referente às hospedagens de Montreal"
      ],
      "metadata": {
        "id": "B1BkMo4j3rOR"
      }
    },
    {
      "cell_type": "code",
      "metadata": {
        "id": "tUmoAT8DLQ5T"
      },
      "source": [
        "# importar o arquivo listings.csv para um DataFrame\n",
        "df = pd.read_csv('http://data.insideairbnb.com/canada/qc/montreal/2022-12-15/visualisations/listings.csv')"
      ],
      "execution_count": null,
      "outputs": []
    },
    {
      "cell_type": "markdown",
      "metadata": {
        "id": "qb5By2nIMS6m"
      },
      "source": [
        "## Análise dos Dados\n",
        "\n",
        "#### Começaremos analisando esses dados que acabamos de importar. E, a priori, deixarei abaixo um dicionário das variáveis para facilitar a compreensão dos dados e dos passos realizados."
      ]
    },
    {
      "cell_type": "markdown",
      "metadata": {
        "id": "RYgvuebKNg8-"
      },
      "source": [
        "**Dicionário das variáveis**\n",
        "\n",
        "* `id` - número de id gerado para identificar o imóvel\n",
        "* `name` - nome da propriedade anunciada\n",
        "* `host_id` - número de id do proprietário (anfitrião) da propriedade\n",
        "* `host_name` - Nome do anfitrião\n",
        "* `neighbourhood_group` - esta coluna não contém nenhum valor válido\n",
        "* `neighbourhood` - nome do bairro\n",
        "* `latitude` - coordenada da latitude da propriedade\n",
        "* `longitude` - coordenada da longitude da propriedade\n",
        "* `room_type` - informa o tipo de quarto que é oferecido\n",
        "* `price` - preço para alugar o imóvel\n",
        "* `minimum_nights` - quantidade mínima de noites para reservar\n",
        "* `number_of_reviews` - número de reviews que a propriedade possui\n",
        "* `last_review` - data do último review\n",
        "* `reviews_per_month` - quantidade de reviews por mês\n",
        "* `calculated_host_listings_count` - quantidade de imóveis do mesmo anfitrião\n",
        "* `availability_365` - número de dias de disponibilidade dentro de 365 dias\n",
        "\n",
        "Antes de começar, de fato, nossa análise, vamos ver \"a cara\" do nosso *dataset*, trazendo as 5 primeiras e últimas entradas."
      ]
    },
    {
      "cell_type": "code",
      "metadata": {
        "id": "2iS_dae7YQtO",
        "outputId": "1c733945-ed06-4532-c3f1-9caeb434c578",
        "colab": {
          "base_uri": "https://localhost:8080/",
          "height": 565
        }
      },
      "source": [
        "# mostrar as 5 primeiras entradas\n",
        "df.head()"
      ],
      "execution_count": null,
      "outputs": [
        {
          "output_type": "execute_result",
          "data": {
            "text/plain": [
              "      id                                     name  host_id host_name  \\\n",
              "0  29059             Lovely studio Quartier Latin   125031  Maryline   \n",
              "1  29061       Maison historique - Quartier Latin   125031  Maryline   \n",
              "2  34715  Chez Patrac ! Montreal - Métro Beaubien   149769     Alain   \n",
              "3  36301        Romantic & peaceful Plateau  loft   381468    Sylvie   \n",
              "4  46626    Beautiful! Charming! Spacious! Rooms!   208453   Maureen   \n",
              "\n",
              "   neighbourhood_group                        neighbourhood  latitude  \\\n",
              "0                  NaN                          Ville-Marie  45.51939   \n",
              "1                  NaN                          Ville-Marie  45.51929   \n",
              "2                  NaN            Rosemont-La Petite-Patrie  45.53818   \n",
              "3                  NaN                Le Plateau-Mont-Royal  45.53026   \n",
              "4                  NaN  Côte-des-Neiges-Notre-Dame-de-Grâce  45.47012   \n",
              "\n",
              "   longitude        room_type  price  minimum_nights  number_of_reviews  \\\n",
              "0  -73.56482  Entire home/apt    147               2                396   \n",
              "1  -73.56493  Entire home/apt    278               3                111   \n",
              "2  -73.60360  Entire home/apt    160              14                  9   \n",
              "3  -73.58413  Entire home/apt    160              31                 45   \n",
              "4  -73.60725     Private room     65               3                 42   \n",
              "\n",
              "  last_review  reviews_per_month  calculated_host_listings_count  \\\n",
              "0  2022-11-25               2.60                               2   \n",
              "1  2022-10-11               0.84                               2   \n",
              "2  2022-11-18               0.06                               1   \n",
              "3  2022-08-22               0.49                               6   \n",
              "4  2022-10-22               0.30                               2   \n",
              "\n",
              "   availability_365  number_of_reviews_ltm  license  \n",
              "0               339                     51      NaN  \n",
              "1               291                     26      NaN  \n",
              "2               131                      3  261 026  \n",
              "3               295                      3      NaN  \n",
              "4               361                     18   305995  "
            ],
            "text/html": [
              "\n",
              "  <div id=\"df-ecda0059-9be8-4a2f-a744-7305c162c308\">\n",
              "    <div class=\"colab-df-container\">\n",
              "      <div>\n",
              "<style scoped>\n",
              "    .dataframe tbody tr th:only-of-type {\n",
              "        vertical-align: middle;\n",
              "    }\n",
              "\n",
              "    .dataframe tbody tr th {\n",
              "        vertical-align: top;\n",
              "    }\n",
              "\n",
              "    .dataframe thead th {\n",
              "        text-align: right;\n",
              "    }\n",
              "</style>\n",
              "<table border=\"1\" class=\"dataframe\">\n",
              "  <thead>\n",
              "    <tr style=\"text-align: right;\">\n",
              "      <th></th>\n",
              "      <th>id</th>\n",
              "      <th>name</th>\n",
              "      <th>host_id</th>\n",
              "      <th>host_name</th>\n",
              "      <th>neighbourhood_group</th>\n",
              "      <th>neighbourhood</th>\n",
              "      <th>latitude</th>\n",
              "      <th>longitude</th>\n",
              "      <th>room_type</th>\n",
              "      <th>price</th>\n",
              "      <th>minimum_nights</th>\n",
              "      <th>number_of_reviews</th>\n",
              "      <th>last_review</th>\n",
              "      <th>reviews_per_month</th>\n",
              "      <th>calculated_host_listings_count</th>\n",
              "      <th>availability_365</th>\n",
              "      <th>number_of_reviews_ltm</th>\n",
              "      <th>license</th>\n",
              "    </tr>\n",
              "  </thead>\n",
              "  <tbody>\n",
              "    <tr>\n",
              "      <th>0</th>\n",
              "      <td>29059</td>\n",
              "      <td>Lovely studio Quartier Latin</td>\n",
              "      <td>125031</td>\n",
              "      <td>Maryline</td>\n",
              "      <td>NaN</td>\n",
              "      <td>Ville-Marie</td>\n",
              "      <td>45.51939</td>\n",
              "      <td>-73.56482</td>\n",
              "      <td>Entire home/apt</td>\n",
              "      <td>147</td>\n",
              "      <td>2</td>\n",
              "      <td>396</td>\n",
              "      <td>2022-11-25</td>\n",
              "      <td>2.60</td>\n",
              "      <td>2</td>\n",
              "      <td>339</td>\n",
              "      <td>51</td>\n",
              "      <td>NaN</td>\n",
              "    </tr>\n",
              "    <tr>\n",
              "      <th>1</th>\n",
              "      <td>29061</td>\n",
              "      <td>Maison historique - Quartier Latin</td>\n",
              "      <td>125031</td>\n",
              "      <td>Maryline</td>\n",
              "      <td>NaN</td>\n",
              "      <td>Ville-Marie</td>\n",
              "      <td>45.51929</td>\n",
              "      <td>-73.56493</td>\n",
              "      <td>Entire home/apt</td>\n",
              "      <td>278</td>\n",
              "      <td>3</td>\n",
              "      <td>111</td>\n",
              "      <td>2022-10-11</td>\n",
              "      <td>0.84</td>\n",
              "      <td>2</td>\n",
              "      <td>291</td>\n",
              "      <td>26</td>\n",
              "      <td>NaN</td>\n",
              "    </tr>\n",
              "    <tr>\n",
              "      <th>2</th>\n",
              "      <td>34715</td>\n",
              "      <td>Chez Patrac ! Montreal - Métro Beaubien</td>\n",
              "      <td>149769</td>\n",
              "      <td>Alain</td>\n",
              "      <td>NaN</td>\n",
              "      <td>Rosemont-La Petite-Patrie</td>\n",
              "      <td>45.53818</td>\n",
              "      <td>-73.60360</td>\n",
              "      <td>Entire home/apt</td>\n",
              "      <td>160</td>\n",
              "      <td>14</td>\n",
              "      <td>9</td>\n",
              "      <td>2022-11-18</td>\n",
              "      <td>0.06</td>\n",
              "      <td>1</td>\n",
              "      <td>131</td>\n",
              "      <td>3</td>\n",
              "      <td>261 026</td>\n",
              "    </tr>\n",
              "    <tr>\n",
              "      <th>3</th>\n",
              "      <td>36301</td>\n",
              "      <td>Romantic &amp; peaceful Plateau  loft</td>\n",
              "      <td>381468</td>\n",
              "      <td>Sylvie</td>\n",
              "      <td>NaN</td>\n",
              "      <td>Le Plateau-Mont-Royal</td>\n",
              "      <td>45.53026</td>\n",
              "      <td>-73.58413</td>\n",
              "      <td>Entire home/apt</td>\n",
              "      <td>160</td>\n",
              "      <td>31</td>\n",
              "      <td>45</td>\n",
              "      <td>2022-08-22</td>\n",
              "      <td>0.49</td>\n",
              "      <td>6</td>\n",
              "      <td>295</td>\n",
              "      <td>3</td>\n",
              "      <td>NaN</td>\n",
              "    </tr>\n",
              "    <tr>\n",
              "      <th>4</th>\n",
              "      <td>46626</td>\n",
              "      <td>Beautiful! Charming! Spacious! Rooms!</td>\n",
              "      <td>208453</td>\n",
              "      <td>Maureen</td>\n",
              "      <td>NaN</td>\n",
              "      <td>Côte-des-Neiges-Notre-Dame-de-Grâce</td>\n",
              "      <td>45.47012</td>\n",
              "      <td>-73.60725</td>\n",
              "      <td>Private room</td>\n",
              "      <td>65</td>\n",
              "      <td>3</td>\n",
              "      <td>42</td>\n",
              "      <td>2022-10-22</td>\n",
              "      <td>0.30</td>\n",
              "      <td>2</td>\n",
              "      <td>361</td>\n",
              "      <td>18</td>\n",
              "      <td>305995</td>\n",
              "    </tr>\n",
              "  </tbody>\n",
              "</table>\n",
              "</div>\n",
              "      <button class=\"colab-df-convert\" onclick=\"convertToInteractive('df-ecda0059-9be8-4a2f-a744-7305c162c308')\"\n",
              "              title=\"Convert this dataframe to an interactive table.\"\n",
              "              style=\"display:none;\">\n",
              "        \n",
              "  <svg xmlns=\"http://www.w3.org/2000/svg\" height=\"24px\"viewBox=\"0 0 24 24\"\n",
              "       width=\"24px\">\n",
              "    <path d=\"M0 0h24v24H0V0z\" fill=\"none\"/>\n",
              "    <path d=\"M18.56 5.44l.94 2.06.94-2.06 2.06-.94-2.06-.94-.94-2.06-.94 2.06-2.06.94zm-11 1L8.5 8.5l.94-2.06 2.06-.94-2.06-.94L8.5 2.5l-.94 2.06-2.06.94zm10 10l.94 2.06.94-2.06 2.06-.94-2.06-.94-.94-2.06-.94 2.06-2.06.94z\"/><path d=\"M17.41 7.96l-1.37-1.37c-.4-.4-.92-.59-1.43-.59-.52 0-1.04.2-1.43.59L10.3 9.45l-7.72 7.72c-.78.78-.78 2.05 0 2.83L4 21.41c.39.39.9.59 1.41.59.51 0 1.02-.2 1.41-.59l7.78-7.78 2.81-2.81c.8-.78.8-2.07 0-2.86zM5.41 20L4 18.59l7.72-7.72 1.47 1.35L5.41 20z\"/>\n",
              "  </svg>\n",
              "      </button>\n",
              "      \n",
              "  <style>\n",
              "    .colab-df-container {\n",
              "      display:flex;\n",
              "      flex-wrap:wrap;\n",
              "      gap: 12px;\n",
              "    }\n",
              "\n",
              "    .colab-df-convert {\n",
              "      background-color: #E8F0FE;\n",
              "      border: none;\n",
              "      border-radius: 50%;\n",
              "      cursor: pointer;\n",
              "      display: none;\n",
              "      fill: #1967D2;\n",
              "      height: 32px;\n",
              "      padding: 0 0 0 0;\n",
              "      width: 32px;\n",
              "    }\n",
              "\n",
              "    .colab-df-convert:hover {\n",
              "      background-color: #E2EBFA;\n",
              "      box-shadow: 0px 1px 2px rgba(60, 64, 67, 0.3), 0px 1px 3px 1px rgba(60, 64, 67, 0.15);\n",
              "      fill: #174EA6;\n",
              "    }\n",
              "\n",
              "    [theme=dark] .colab-df-convert {\n",
              "      background-color: #3B4455;\n",
              "      fill: #D2E3FC;\n",
              "    }\n",
              "\n",
              "    [theme=dark] .colab-df-convert:hover {\n",
              "      background-color: #434B5C;\n",
              "      box-shadow: 0px 1px 3px 1px rgba(0, 0, 0, 0.15);\n",
              "      filter: drop-shadow(0px 1px 2px rgba(0, 0, 0, 0.3));\n",
              "      fill: #FFFFFF;\n",
              "    }\n",
              "  </style>\n",
              "\n",
              "      <script>\n",
              "        const buttonEl =\n",
              "          document.querySelector('#df-ecda0059-9be8-4a2f-a744-7305c162c308 button.colab-df-convert');\n",
              "        buttonEl.style.display =\n",
              "          google.colab.kernel.accessAllowed ? 'block' : 'none';\n",
              "\n",
              "        async function convertToInteractive(key) {\n",
              "          const element = document.querySelector('#df-ecda0059-9be8-4a2f-a744-7305c162c308');\n",
              "          const dataTable =\n",
              "            await google.colab.kernel.invokeFunction('convertToInteractive',\n",
              "                                                     [key], {});\n",
              "          if (!dataTable) return;\n",
              "\n",
              "          const docLinkHtml = 'Like what you see? Visit the ' +\n",
              "            '<a target=\"_blank\" href=https://colab.research.google.com/notebooks/data_table.ipynb>data table notebook</a>'\n",
              "            + ' to learn more about interactive tables.';\n",
              "          element.innerHTML = '';\n",
              "          dataTable['output_type'] = 'display_data';\n",
              "          await google.colab.output.renderOutput(dataTable, element);\n",
              "          const docLink = document.createElement('div');\n",
              "          docLink.innerHTML = docLinkHtml;\n",
              "          element.appendChild(docLink);\n",
              "        }\n",
              "      </script>\n",
              "    </div>\n",
              "  </div>\n",
              "  "
            ]
          },
          "metadata": {},
          "execution_count": 3
        }
      ]
    },
    {
      "cell_type": "code",
      "source": [
        "df.tail()"
      ],
      "metadata": {
        "id": "j4bReOMK6wuB",
        "outputId": "13af3d3c-e7f5-49f3-b084-e0e9145d13fc",
        "colab": {
          "base_uri": "https://localhost:8080/",
          "height": 461
        }
      },
      "execution_count": null,
      "outputs": [
        {
          "output_type": "execute_result",
          "data": {
            "text/plain": [
              "                       id                                               name  \\\n",
              "13908  781177266138093057                     Clean, Comfy and Modern Studio   \n",
              "13909  781184587986243680              Spacious 3 bedroom Apt on the Plateau   \n",
              "13910  781197509172526291    Lovely 3-bedroom unit - 5 minutes from Downtown   \n",
              "13911  781199594633475354  Elegant&Modern Studio Walking Distance to Old ...   \n",
              "13912  781201592127815860                           Appartement Centre Ville   \n",
              "\n",
              "         host_id host_name  neighbourhood_group  \\\n",
              "13908     279892     Julie                  NaN   \n",
              "13909  488779216    Daniel                  NaN   \n",
              "13910  485486671   Sofiane                  NaN   \n",
              "13911    4483520   Mikaila                  NaN   \n",
              "13912  491316969    Anouar                  NaN   \n",
              "\n",
              "                             neighbourhood   latitude  longitude  \\\n",
              "13908  Côte-des-Neiges-Notre-Dame-de-Grâce  45.470596 -73.643483   \n",
              "13909                Le Plateau-Mont-Royal  45.535280 -73.581756   \n",
              "13910                               Verdun  45.456360 -73.567709   \n",
              "13911                          Ville-Marie  45.516092 -73.563601   \n",
              "13912                          Ville-Marie  45.496873 -73.570560   \n",
              "\n",
              "             room_type  price  minimum_nights  number_of_reviews last_review  \\\n",
              "13908  Entire home/apt     42              32                  0         NaN   \n",
              "13909  Entire home/apt    155               2                  0         NaN   \n",
              "13910  Entire home/apt     99               1                  0         NaN   \n",
              "13911  Entire home/apt     69               2                  0         NaN   \n",
              "13912  Entire home/apt    320               1                  0         NaN   \n",
              "\n",
              "       reviews_per_month  calculated_host_listings_count  availability_365  \\\n",
              "13908                NaN                               1               173   \n",
              "13909                NaN                              18               125   \n",
              "13910                NaN                               6                79   \n",
              "13911                NaN                              10                86   \n",
              "13912                NaN                               1               365   \n",
              "\n",
              "       number_of_reviews_ltm license  \n",
              "13908                      0     NaN  \n",
              "13909                      0     NaN  \n",
              "13910                      0     NaN  \n",
              "13911                      0     NaN  \n",
              "13912                      0     NaN  "
            ],
            "text/html": [
              "\n",
              "  <div id=\"df-9e095c35-d6cc-462f-97e8-5bc2e2533477\">\n",
              "    <div class=\"colab-df-container\">\n",
              "      <div>\n",
              "<style scoped>\n",
              "    .dataframe tbody tr th:only-of-type {\n",
              "        vertical-align: middle;\n",
              "    }\n",
              "\n",
              "    .dataframe tbody tr th {\n",
              "        vertical-align: top;\n",
              "    }\n",
              "\n",
              "    .dataframe thead th {\n",
              "        text-align: right;\n",
              "    }\n",
              "</style>\n",
              "<table border=\"1\" class=\"dataframe\">\n",
              "  <thead>\n",
              "    <tr style=\"text-align: right;\">\n",
              "      <th></th>\n",
              "      <th>id</th>\n",
              "      <th>name</th>\n",
              "      <th>host_id</th>\n",
              "      <th>host_name</th>\n",
              "      <th>neighbourhood_group</th>\n",
              "      <th>neighbourhood</th>\n",
              "      <th>latitude</th>\n",
              "      <th>longitude</th>\n",
              "      <th>room_type</th>\n",
              "      <th>price</th>\n",
              "      <th>minimum_nights</th>\n",
              "      <th>number_of_reviews</th>\n",
              "      <th>last_review</th>\n",
              "      <th>reviews_per_month</th>\n",
              "      <th>calculated_host_listings_count</th>\n",
              "      <th>availability_365</th>\n",
              "      <th>number_of_reviews_ltm</th>\n",
              "      <th>license</th>\n",
              "    </tr>\n",
              "  </thead>\n",
              "  <tbody>\n",
              "    <tr>\n",
              "      <th>13908</th>\n",
              "      <td>781177266138093057</td>\n",
              "      <td>Clean, Comfy and Modern Studio</td>\n",
              "      <td>279892</td>\n",
              "      <td>Julie</td>\n",
              "      <td>NaN</td>\n",
              "      <td>Côte-des-Neiges-Notre-Dame-de-Grâce</td>\n",
              "      <td>45.470596</td>\n",
              "      <td>-73.643483</td>\n",
              "      <td>Entire home/apt</td>\n",
              "      <td>42</td>\n",
              "      <td>32</td>\n",
              "      <td>0</td>\n",
              "      <td>NaN</td>\n",
              "      <td>NaN</td>\n",
              "      <td>1</td>\n",
              "      <td>173</td>\n",
              "      <td>0</td>\n",
              "      <td>NaN</td>\n",
              "    </tr>\n",
              "    <tr>\n",
              "      <th>13909</th>\n",
              "      <td>781184587986243680</td>\n",
              "      <td>Spacious 3 bedroom Apt on the Plateau</td>\n",
              "      <td>488779216</td>\n",
              "      <td>Daniel</td>\n",
              "      <td>NaN</td>\n",
              "      <td>Le Plateau-Mont-Royal</td>\n",
              "      <td>45.535280</td>\n",
              "      <td>-73.581756</td>\n",
              "      <td>Entire home/apt</td>\n",
              "      <td>155</td>\n",
              "      <td>2</td>\n",
              "      <td>0</td>\n",
              "      <td>NaN</td>\n",
              "      <td>NaN</td>\n",
              "      <td>18</td>\n",
              "      <td>125</td>\n",
              "      <td>0</td>\n",
              "      <td>NaN</td>\n",
              "    </tr>\n",
              "    <tr>\n",
              "      <th>13910</th>\n",
              "      <td>781197509172526291</td>\n",
              "      <td>Lovely 3-bedroom unit - 5 minutes from Downtown</td>\n",
              "      <td>485486671</td>\n",
              "      <td>Sofiane</td>\n",
              "      <td>NaN</td>\n",
              "      <td>Verdun</td>\n",
              "      <td>45.456360</td>\n",
              "      <td>-73.567709</td>\n",
              "      <td>Entire home/apt</td>\n",
              "      <td>99</td>\n",
              "      <td>1</td>\n",
              "      <td>0</td>\n",
              "      <td>NaN</td>\n",
              "      <td>NaN</td>\n",
              "      <td>6</td>\n",
              "      <td>79</td>\n",
              "      <td>0</td>\n",
              "      <td>NaN</td>\n",
              "    </tr>\n",
              "    <tr>\n",
              "      <th>13911</th>\n",
              "      <td>781199594633475354</td>\n",
              "      <td>Elegant&amp;Modern Studio Walking Distance to Old ...</td>\n",
              "      <td>4483520</td>\n",
              "      <td>Mikaila</td>\n",
              "      <td>NaN</td>\n",
              "      <td>Ville-Marie</td>\n",
              "      <td>45.516092</td>\n",
              "      <td>-73.563601</td>\n",
              "      <td>Entire home/apt</td>\n",
              "      <td>69</td>\n",
              "      <td>2</td>\n",
              "      <td>0</td>\n",
              "      <td>NaN</td>\n",
              "      <td>NaN</td>\n",
              "      <td>10</td>\n",
              "      <td>86</td>\n",
              "      <td>0</td>\n",
              "      <td>NaN</td>\n",
              "    </tr>\n",
              "    <tr>\n",
              "      <th>13912</th>\n",
              "      <td>781201592127815860</td>\n",
              "      <td>Appartement Centre Ville</td>\n",
              "      <td>491316969</td>\n",
              "      <td>Anouar</td>\n",
              "      <td>NaN</td>\n",
              "      <td>Ville-Marie</td>\n",
              "      <td>45.496873</td>\n",
              "      <td>-73.570560</td>\n",
              "      <td>Entire home/apt</td>\n",
              "      <td>320</td>\n",
              "      <td>1</td>\n",
              "      <td>0</td>\n",
              "      <td>NaN</td>\n",
              "      <td>NaN</td>\n",
              "      <td>1</td>\n",
              "      <td>365</td>\n",
              "      <td>0</td>\n",
              "      <td>NaN</td>\n",
              "    </tr>\n",
              "  </tbody>\n",
              "</table>\n",
              "</div>\n",
              "      <button class=\"colab-df-convert\" onclick=\"convertToInteractive('df-9e095c35-d6cc-462f-97e8-5bc2e2533477')\"\n",
              "              title=\"Convert this dataframe to an interactive table.\"\n",
              "              style=\"display:none;\">\n",
              "        \n",
              "  <svg xmlns=\"http://www.w3.org/2000/svg\" height=\"24px\"viewBox=\"0 0 24 24\"\n",
              "       width=\"24px\">\n",
              "    <path d=\"M0 0h24v24H0V0z\" fill=\"none\"/>\n",
              "    <path d=\"M18.56 5.44l.94 2.06.94-2.06 2.06-.94-2.06-.94-.94-2.06-.94 2.06-2.06.94zm-11 1L8.5 8.5l.94-2.06 2.06-.94-2.06-.94L8.5 2.5l-.94 2.06-2.06.94zm10 10l.94 2.06.94-2.06 2.06-.94-2.06-.94-.94-2.06-.94 2.06-2.06.94z\"/><path d=\"M17.41 7.96l-1.37-1.37c-.4-.4-.92-.59-1.43-.59-.52 0-1.04.2-1.43.59L10.3 9.45l-7.72 7.72c-.78.78-.78 2.05 0 2.83L4 21.41c.39.39.9.59 1.41.59.51 0 1.02-.2 1.41-.59l7.78-7.78 2.81-2.81c.8-.78.8-2.07 0-2.86zM5.41 20L4 18.59l7.72-7.72 1.47 1.35L5.41 20z\"/>\n",
              "  </svg>\n",
              "      </button>\n",
              "      \n",
              "  <style>\n",
              "    .colab-df-container {\n",
              "      display:flex;\n",
              "      flex-wrap:wrap;\n",
              "      gap: 12px;\n",
              "    }\n",
              "\n",
              "    .colab-df-convert {\n",
              "      background-color: #E8F0FE;\n",
              "      border: none;\n",
              "      border-radius: 50%;\n",
              "      cursor: pointer;\n",
              "      display: none;\n",
              "      fill: #1967D2;\n",
              "      height: 32px;\n",
              "      padding: 0 0 0 0;\n",
              "      width: 32px;\n",
              "    }\n",
              "\n",
              "    .colab-df-convert:hover {\n",
              "      background-color: #E2EBFA;\n",
              "      box-shadow: 0px 1px 2px rgba(60, 64, 67, 0.3), 0px 1px 3px 1px rgba(60, 64, 67, 0.15);\n",
              "      fill: #174EA6;\n",
              "    }\n",
              "\n",
              "    [theme=dark] .colab-df-convert {\n",
              "      background-color: #3B4455;\n",
              "      fill: #D2E3FC;\n",
              "    }\n",
              "\n",
              "    [theme=dark] .colab-df-convert:hover {\n",
              "      background-color: #434B5C;\n",
              "      box-shadow: 0px 1px 3px 1px rgba(0, 0, 0, 0.15);\n",
              "      filter: drop-shadow(0px 1px 2px rgba(0, 0, 0, 0.3));\n",
              "      fill: #FFFFFF;\n",
              "    }\n",
              "  </style>\n",
              "\n",
              "      <script>\n",
              "        const buttonEl =\n",
              "          document.querySelector('#df-9e095c35-d6cc-462f-97e8-5bc2e2533477 button.colab-df-convert');\n",
              "        buttonEl.style.display =\n",
              "          google.colab.kernel.accessAllowed ? 'block' : 'none';\n",
              "\n",
              "        async function convertToInteractive(key) {\n",
              "          const element = document.querySelector('#df-9e095c35-d6cc-462f-97e8-5bc2e2533477');\n",
              "          const dataTable =\n",
              "            await google.colab.kernel.invokeFunction('convertToInteractive',\n",
              "                                                     [key], {});\n",
              "          if (!dataTable) return;\n",
              "\n",
              "          const docLinkHtml = 'Like what you see? Visit the ' +\n",
              "            '<a target=\"_blank\" href=https://colab.research.google.com/notebooks/data_table.ipynb>data table notebook</a>'\n",
              "            + ' to learn more about interactive tables.';\n",
              "          element.innerHTML = '';\n",
              "          dataTable['output_type'] = 'display_data';\n",
              "          await google.colab.output.renderOutput(dataTable, element);\n",
              "          const docLink = document.createElement('div');\n",
              "          docLink.innerHTML = docLinkHtml;\n",
              "          element.appendChild(docLink);\n",
              "        }\n",
              "      </script>\n",
              "    </div>\n",
              "  </div>\n",
              "  "
            ]
          },
          "metadata": {},
          "execution_count": 6
        }
      ]
    },
    {
      "cell_type": "markdown",
      "metadata": {
        "id": "6-B_qtEaYEd-"
      },
      "source": [
        "### **Q1. Quantos atributos (variáveis) e quantas entradas o nosso conjunto de dados possui? Quais os tipos das variáveis?**\n",
        "\n",
        "Após a verificação superficial do nosso *dataset*, é hora de identificar quantas entradas há nele, além de identificar os tipos de cada coluna.\n",
        "\n",
        "\n",
        "Vale salientar que esse dataset que foi baixado se trata de uma versão resumida do Airbnb.\n",
        "\n"
      ]
    },
    {
      "cell_type": "code",
      "metadata": {
        "id": "TFRK0tniLV-G",
        "outputId": "9e624dc3-2471-424f-8a51-aef0be8c388c",
        "colab": {
          "base_uri": "https://localhost:8080/",
          "height": 399
        }
      },
      "source": [
        "# identificar o volume de dados do DataFrame\n",
        "print(\"Entradas:\\t {}\".format(df.shape[0]))\n",
        "print(\"Variáveis:\\t {}\\n\".format(df.shape[1]))\n",
        "\n",
        "# verificar os tipos das colunas\n",
        "display(df.dtypes)"
      ],
      "execution_count": null,
      "outputs": [
        {
          "output_type": "stream",
          "name": "stdout",
          "text": [
            "Entradas:\t 13913\n",
            "Variáveis:\t 18\n",
            "\n"
          ]
        },
        {
          "output_type": "display_data",
          "data": {
            "text/plain": [
              "id                                  int64\n",
              "name                               object\n",
              "host_id                             int64\n",
              "host_name                          object\n",
              "neighbourhood_group               float64\n",
              "neighbourhood                      object\n",
              "latitude                          float64\n",
              "longitude                         float64\n",
              "room_type                          object\n",
              "price                               int64\n",
              "minimum_nights                      int64\n",
              "number_of_reviews                   int64\n",
              "last_review                        object\n",
              "reviews_per_month                 float64\n",
              "calculated_host_listings_count      int64\n",
              "availability_365                    int64\n",
              "number_of_reviews_ltm               int64\n",
              "license                            object\n",
              "dtype: object"
            ]
          },
          "metadata": {}
        }
      ]
    },
    {
      "cell_type": "markdown",
      "metadata": {
        "id": "yz1urSUGW9iE"
      },
      "source": [
        "### **Q2. Qual a porcentagem de valores ausentes no *dataset*?**\n",
        "\n",
        "A quantidade de valores ausentes (nulos), está diretamente ligada à qualidade de um *dataset*. Para uma análise mais precisa, faz-se necessário o entendimento se esses valores nulos são significativos quando comparados com o total de entradas"
      ]
    },
    {
      "cell_type": "code",
      "metadata": {
        "id": "plk2FjbCXOqP",
        "outputId": "c678744b-08f4-4f4b-b231-c96076498103",
        "colab": {
          "base_uri": "https://localhost:8080/"
        }
      },
      "source": [
        "# ordenar em ordem decrescente as variáveis por seus valores ausentes\n",
        "(df.isnull().sum() / df.shape[0]).sort_values(ascending=False)"
      ],
      "execution_count": null,
      "outputs": [
        {
          "output_type": "execute_result",
          "data": {
            "text/plain": [
              "neighbourhood_group               1.000000\n",
              "license                           0.925178\n",
              "reviews_per_month                 0.215841\n",
              "last_review                       0.215841\n",
              "name                              0.000431\n",
              "minimum_nights                    0.000000\n",
              "number_of_reviews_ltm             0.000000\n",
              "availability_365                  0.000000\n",
              "calculated_host_listings_count    0.000000\n",
              "number_of_reviews                 0.000000\n",
              "id                                0.000000\n",
              "room_type                         0.000000\n",
              "longitude                         0.000000\n",
              "latitude                          0.000000\n",
              "neighbourhood                     0.000000\n",
              "host_name                         0.000000\n",
              "host_id                           0.000000\n",
              "price                             0.000000\n",
              "dtype: float64"
            ]
          },
          "metadata": {},
          "execution_count": 22
        }
      ]
    },
    {
      "cell_type": "markdown",
      "source": [
        "* Podemos notar que **100%** dos valores da coluna `neighbourhood_group` são nulos.\n",
        "* Cerca de **21%** dos valores das colunas `reviews_per_month`e `last_review`são nulos.\n",
        "* Mais de **90%** dos dados da coluna `licence`são nulos."
      ],
      "metadata": {
        "id": "cr9Ifh40-qUK"
      }
    },
    {
      "cell_type": "markdown",
      "source": [
        "### **Tratando nossos dados ausentes**\n",
        "\n",
        "Faremos uma limpeza ou preenchimento desses dados ausentes no *dataset*.\n",
        "\n",
        "A priori, excluirei as colunas `neighbourhood_group`,`licence`e `last_review`, pois, para esse projeto, não se farão necessárias e ao removê-las, teremos um *dataset* mais limpo e com margens de erro menores.\n",
        "\n",
        "Para isso, irei criar um novo dataset e copiarei os dados para dentro da mesma. Após isso, excluirei as variáveis mencionadas acima desse novo *dataset*.\n",
        "\n"
      ],
      "metadata": {
        "id": "Yq6cHdF5_reQ"
      }
    },
    {
      "cell_type": "code",
      "source": [
        "df_clean = df.copy()"
      ],
      "metadata": {
        "id": "-yJ97_FHBM6Y"
      },
      "execution_count": null,
      "outputs": []
    },
    {
      "cell_type": "code",
      "source": [
        "#Excluindo as colunas com valores ausentes que não serão utulizadas na análise\n",
        "df_clean.drop('license', axis=1, inplace=True)\n",
        "df_clean.drop('last_review', axis=1, inplace=True)\n",
        "df_clean.drop('neighbourhood_group', axis=1, inplace=True)"
      ],
      "metadata": {
        "id": "GSxI0LDzBTYL"
      },
      "execution_count": null,
      "outputs": []
    },
    {
      "cell_type": "markdown",
      "source": [
        "Feito isso, vamos agora, observar no nosso *dataset* os valores ausentes restantes. Vamos analisar o que pode ser feito para uma melhor performance, não prejudicando o *dataset* com a exclusão de muitos dados."
      ],
      "metadata": {
        "id": "mCfTfNDsBufK"
      }
    },
    {
      "cell_type": "code",
      "source": [
        "#Trazendo os valores nulos após o primeiro tratamento\n",
        "df_clean.isnull().sum().sort_values(ascending=False)"
      ],
      "metadata": {
        "id": "hc0GLp4MCI4q",
        "outputId": "dd46b7f5-7890-4179-d68a-ef2a60c8055e",
        "colab": {
          "base_uri": "https://localhost:8080/"
        }
      },
      "execution_count": null,
      "outputs": [
        {
          "output_type": "execute_result",
          "data": {
            "text/plain": [
              "name                              6\n",
              "id                                0\n",
              "host_id                           0\n",
              "host_name                         0\n",
              "neighbourhood                     0\n",
              "latitude                          0\n",
              "longitude                         0\n",
              "room_type                         0\n",
              "price                             0\n",
              "minimum_nights                    0\n",
              "number_of_reviews                 0\n",
              "reviews_per_month                 0\n",
              "calculated_host_listings_count    0\n",
              "availability_365                  0\n",
              "number_of_reviews_ltm             0\n",
              "dtype: int64"
            ]
          },
          "metadata": {},
          "execution_count": 24
        }
      ]
    },
    {
      "cell_type": "code",
      "source": [
        "#Verificando novamente os valores ausentes\n",
        "df_clean.isnull().sum().sort_values(ascending=False)"
      ],
      "metadata": {
        "id": "QGNmF2HJIC5c",
        "outputId": "f3a894fe-bc75-4345-c094-d0c1e836a9bd",
        "colab": {
          "base_uri": "https://localhost:8080/"
        }
      },
      "execution_count": null,
      "outputs": [
        {
          "output_type": "execute_result",
          "data": {
            "text/plain": [
              "name                              6\n",
              "id                                0\n",
              "host_id                           0\n",
              "host_name                         0\n",
              "neighbourhood                     0\n",
              "latitude                          0\n",
              "longitude                         0\n",
              "room_type                         0\n",
              "price                             0\n",
              "minimum_nights                    0\n",
              "number_of_reviews                 0\n",
              "reviews_per_month                 0\n",
              "calculated_host_listings_count    0\n",
              "availability_365                  0\n",
              "number_of_reviews_ltm             0\n",
              "dtype: int64"
            ]
          },
          "metadata": {},
          "execution_count": 25
        }
      ]
    },
    {
      "cell_type": "markdown",
      "source": [
        "Como sobraram apenas 6 valores em `name`, manteremos o *datset* dessa forma. Não influenciará negativamente nossa análise."
      ],
      "metadata": {
        "id": "ogRh94hLJIbO"
      }
    },
    {
      "cell_type": "markdown",
      "source": [
        "Iremos, agora, comparar os dois *datasets*\n"
      ],
      "metadata": {
        "id": "xwKpAu9Xr8F9"
      }
    },
    {
      "cell_type": "code",
      "source": [
        "print('Data Frame limpo: ', df_clean.shape)\n",
        "print('Data Frame original: ', df.shape)"
      ],
      "metadata": {
        "id": "WO2fQ1fTsDzT",
        "outputId": "b99f8aad-82cb-4639-f494-8e15b9a7f39b",
        "colab": {
          "base_uri": "https://localhost:8080/"
        }
      },
      "execution_count": null,
      "outputs": [
        {
          "output_type": "stream",
          "name": "stdout",
          "text": [
            "Data Frame limpo:  (13913, 15)\n",
            "Data Frame original:  (13913, 18)\n"
          ]
        }
      ]
    },
    {
      "cell_type": "markdown",
      "metadata": {
        "id": "iHXvvHIxaoNc"
      },
      "source": [
        "### **Q3. Qual o tipo de distribuição das variáveis?** \n",
        "\n",
        "Feito a limpeza dos dados, partiremos para identificar a distribuição dos dados, através de um histograma."
      ]
    },
    {
      "cell_type": "code",
      "metadata": {
        "id": "q2wWSfeRbmBo",
        "colab": {
          "base_uri": "https://localhost:8080/",
          "height": 815
        },
        "outputId": "d2d2396d-3852-40a0-d6c6-192094170bce"
      },
      "source": [
        "# plotar o histograma das variáveis numéricas\n",
        "df_clean.hist(bins=15, figsize=(15,10))"
      ],
      "execution_count": null,
      "outputs": [
        {
          "output_type": "execute_result",
          "data": {
            "text/plain": [
              "array([[<AxesSubplot:title={'center':'id'}>,\n",
              "        <AxesSubplot:title={'center':'host_id'}>,\n",
              "        <AxesSubplot:title={'center':'latitude'}>],\n",
              "       [<AxesSubplot:title={'center':'longitude'}>,\n",
              "        <AxesSubplot:title={'center':'price'}>,\n",
              "        <AxesSubplot:title={'center':'minimum_nights'}>],\n",
              "       [<AxesSubplot:title={'center':'number_of_reviews'}>,\n",
              "        <AxesSubplot:title={'center':'reviews_per_month'}>,\n",
              "        <AxesSubplot:title={'center':'calculated_host_listings_count'}>],\n",
              "       [<AxesSubplot:title={'center':'availability_365'}>,\n",
              "        <AxesSubplot:title={'center':'number_of_reviews_ltm'}>,\n",
              "        <AxesSubplot:>]], dtype=object)"
            ]
          },
          "metadata": {},
          "execution_count": 27
        },
        {
          "output_type": "display_data",
          "data": {
            "text/plain": [
              "<Figure size 1080x720 with 12 Axes>"
            ],
            "image/png": "[encoded data removed]"
          },
          "metadata": {
            "needs_background": "light"
          }
        }
      ]
    },
    {
      "cell_type": "markdown",
      "source": [
        "Ao observar os histogramas, podemos ver que os gráficos `price`, `minimum_nights`, `number_of_reviews`, `reviews_per_month`, `calculated_host_listings_count`, e `number_of_reviews_ltm`, não estão com os dados devidamente distribuídos, trazendo, assim, a impressão que haja **Outliers**."
      ],
      "metadata": {
        "id": "jPMjNcyGwbGL"
      }
    },
    {
      "cell_type": "markdown",
      "source": [
        "Para analisar melhor esses outliers, vamos gerar um resumo estatístico das variáveis."
      ],
      "metadata": {
        "id": "_3DavmFhxVsY"
      }
    },
    {
      "cell_type": "code",
      "source": [
        "df[['price', 'minimum_nights', 'number_of_reviews', 'calculated_host_listings_count', 'number_of_reviews_ltm']].describe()"
      ],
      "metadata": {
        "colab": {
          "base_uri": "https://localhost:8080/",
          "height": 300
        },
        "id": "wyeS_PIdxfi4",
        "outputId": "dcda30c7-c79b-477f-b27e-2c41174fd896"
      },
      "execution_count": null,
      "outputs": [
        {
          "output_type": "execute_result",
          "data": {
            "text/plain": [
              "               price  minimum_nights  number_of_reviews  \\\n",
              "count   13913.000000    13913.000000       13913.000000   \n",
              "mean      169.153022       15.356645          23.733199   \n",
              "std      1450.083079      106.970858          48.820176   \n",
              "min         0.000000        1.000000           0.000000   \n",
              "25%        61.000000        1.000000           1.000000   \n",
              "50%        98.000000        2.000000           5.000000   \n",
              "75%       150.000000       25.000000          24.000000   \n",
              "max    110672.000000    11684.000000         771.000000   \n",
              "\n",
              "       calculated_host_listings_count  number_of_reviews_ltm  \n",
              "count                    13913.000000           13913.000000  \n",
              "mean                        10.958025               8.591821  \n",
              "std                         28.894207              16.735904  \n",
              "min                          1.000000               0.000000  \n",
              "25%                          1.000000               0.000000  \n",
              "50%                          2.000000               1.000000  \n",
              "75%                          7.000000               9.000000  \n",
              "max                        210.000000             306.000000  "
            ],
            "text/html": [
              "\n",
              "  <div id=\"df-697c4c72-056a-4960-bb04-c0c258aa344e\">\n",
              "    <div class=\"colab-df-container\">\n",
              "      <div>\n",
              "<style scoped>\n",
              "    .dataframe tbody tr th:only-of-type {\n",
              "        vertical-align: middle;\n",
              "    }\n",
              "\n",
              "    .dataframe tbody tr th {\n",
              "        vertical-align: top;\n",
              "    }\n",
              "\n",
              "    .dataframe thead th {\n",
              "        text-align: right;\n",
              "    }\n",
              "</style>\n",
              "<table border=\"1\" class=\"dataframe\">\n",
              "  <thead>\n",
              "    <tr style=\"text-align: right;\">\n",
              "      <th></th>\n",
              "      <th>price</th>\n",
              "      <th>minimum_nights</th>\n",
              "      <th>number_of_reviews</th>\n",
              "      <th>calculated_host_listings_count</th>\n",
              "      <th>number_of_reviews_ltm</th>\n",
              "    </tr>\n",
              "  </thead>\n",
              "  <tbody>\n",
              "    <tr>\n",
              "      <th>count</th>\n",
              "      <td>13913.000000</td>\n",
              "      <td>13913.000000</td>\n",
              "      <td>13913.000000</td>\n",
              "      <td>13913.000000</td>\n",
              "      <td>13913.000000</td>\n",
              "    </tr>\n",
              "    <tr>\n",
              "      <th>mean</th>\n",
              "      <td>169.153022</td>\n",
              "      <td>15.356645</td>\n",
              "      <td>23.733199</td>\n",
              "      <td>10.958025</td>\n",
              "      <td>8.591821</td>\n",
              "    </tr>\n",
              "    <tr>\n",
              "      <th>std</th>\n",
              "      <td>1450.083079</td>\n",
              "      <td>106.970858</td>\n",
              "      <td>48.820176</td>\n",
              "      <td>28.894207</td>\n",
              "      <td>16.735904</td>\n",
              "    </tr>\n",
              "    <tr>\n",
              "      <th>min</th>\n",
              "      <td>0.000000</td>\n",
              "      <td>1.000000</td>\n",
              "      <td>0.000000</td>\n",
              "      <td>1.000000</td>\n",
              "      <td>0.000000</td>\n",
              "    </tr>\n",
              "    <tr>\n",
              "      <th>25%</th>\n",
              "      <td>61.000000</td>\n",
              "      <td>1.000000</td>\n",
              "      <td>1.000000</td>\n",
              "      <td>1.000000</td>\n",
              "      <td>0.000000</td>\n",
              "    </tr>\n",
              "    <tr>\n",
              "      <th>50%</th>\n",
              "      <td>98.000000</td>\n",
              "      <td>2.000000</td>\n",
              "      <td>5.000000</td>\n",
              "      <td>2.000000</td>\n",
              "      <td>1.000000</td>\n",
              "    </tr>\n",
              "    <tr>\n",
              "      <th>75%</th>\n",
              "      <td>150.000000</td>\n",
              "      <td>25.000000</td>\n",
              "      <td>24.000000</td>\n",
              "      <td>7.000000</td>\n",
              "      <td>9.000000</td>\n",
              "    </tr>\n",
              "    <tr>\n",
              "      <th>max</th>\n",
              "      <td>110672.000000</td>\n",
              "      <td>11684.000000</td>\n",
              "      <td>771.000000</td>\n",
              "      <td>210.000000</td>\n",
              "      <td>306.000000</td>\n",
              "    </tr>\n",
              "  </tbody>\n",
              "</table>\n",
              "</div>\n",
              "      <button class=\"colab-df-convert\" onclick=\"convertToInteractive('df-697c4c72-056a-4960-bb04-c0c258aa344e')\"\n",
              "              title=\"Convert this dataframe to an interactive table.\"\n",
              "              style=\"display:none;\">\n",
              "        \n",
              "  <svg xmlns=\"http://www.w3.org/2000/svg\" height=\"24px\"viewBox=\"0 0 24 24\"\n",
              "       width=\"24px\">\n",
              "    <path d=\"M0 0h24v24H0V0z\" fill=\"none\"/>\n",
              "    <path d=\"M18.56 5.44l.94 2.06.94-2.06 2.06-.94-2.06-.94-.94-2.06-.94 2.06-2.06.94zm-11 1L8.5 8.5l.94-2.06 2.06-.94-2.06-.94L8.5 2.5l-.94 2.06-2.06.94zm10 10l.94 2.06.94-2.06 2.06-.94-2.06-.94-.94-2.06-.94 2.06-2.06.94z\"/><path d=\"M17.41 7.96l-1.37-1.37c-.4-.4-.92-.59-1.43-.59-.52 0-1.04.2-1.43.59L10.3 9.45l-7.72 7.72c-.78.78-.78 2.05 0 2.83L4 21.41c.39.39.9.59 1.41.59.51 0 1.02-.2 1.41-.59l7.78-7.78 2.81-2.81c.8-.78.8-2.07 0-2.86zM5.41 20L4 18.59l7.72-7.72 1.47 1.35L5.41 20z\"/>\n",
              "  </svg>\n",
              "      </button>\n",
              "      \n",
              "  <style>\n",
              "    .colab-df-container {\n",
              "      display:flex;\n",
              "      flex-wrap:wrap;\n",
              "      gap: 12px;\n",
              "    }\n",
              "\n",
              "    .colab-df-convert {\n",
              "      background-color: #E8F0FE;\n",
              "      border: none;\n",
              "      border-radius: 50%;\n",
              "      cursor: pointer;\n",
              "      display: none;\n",
              "      fill: #1967D2;\n",
              "      height: 32px;\n",
              "      padding: 0 0 0 0;\n",
              "      width: 32px;\n",
              "    }\n",
              "\n",
              "    .colab-df-convert:hover {\n",
              "      background-color: #E2EBFA;\n",
              "      box-shadow: 0px 1px 2px rgba(60, 64, 67, 0.3), 0px 1px 3px 1px rgba(60, 64, 67, 0.15);\n",
              "      fill: #174EA6;\n",
              "    }\n",
              "\n",
              "    [theme=dark] .colab-df-convert {\n",
              "      background-color: #3B4455;\n",
              "      fill: #D2E3FC;\n",
              "    }\n",
              "\n",
              "    [theme=dark] .colab-df-convert:hover {\n",
              "      background-color: #434B5C;\n",
              "      box-shadow: 0px 1px 3px 1px rgba(0, 0, 0, 0.15);\n",
              "      filter: drop-shadow(0px 1px 2px rgba(0, 0, 0, 0.3));\n",
              "      fill: #FFFFFF;\n",
              "    }\n",
              "  </style>\n",
              "\n",
              "      <script>\n",
              "        const buttonEl =\n",
              "          document.querySelector('#df-697c4c72-056a-4960-bb04-c0c258aa344e button.colab-df-convert');\n",
              "        buttonEl.style.display =\n",
              "          google.colab.kernel.accessAllowed ? 'block' : 'none';\n",
              "\n",
              "        async function convertToInteractive(key) {\n",
              "          const element = document.querySelector('#df-697c4c72-056a-4960-bb04-c0c258aa344e');\n",
              "          const dataTable =\n",
              "            await google.colab.kernel.invokeFunction('convertToInteractive',\n",
              "                                                     [key], {});\n",
              "          if (!dataTable) return;\n",
              "\n",
              "          const docLinkHtml = 'Like what you see? Visit the ' +\n",
              "            '<a target=\"_blank\" href=https://colab.research.google.com/notebooks/data_table.ipynb>data table notebook</a>'\n",
              "            + ' to learn more about interactive tables.';\n",
              "          element.innerHTML = '';\n",
              "          dataTable['output_type'] = 'display_data';\n",
              "          await google.colab.output.renderOutput(dataTable, element);\n",
              "          const docLink = document.createElement('div');\n",
              "          docLink.innerHTML = docLinkHtml;\n",
              "          element.appendChild(docLink);\n",
              "        }\n",
              "      </script>\n",
              "    </div>\n",
              "  </div>\n",
              "  "
            ]
          },
          "metadata": {},
          "execution_count": 30
        }
      ]
    },
    {
      "cell_type": "markdown",
      "source": [
        "Com o resumo estatístico, podemos afirmar o seguinte:\n",
        "* O preço (price) tem 75% dos valores até 150.00, porém o valor máximo é 110672.00.\n",
        "* A quantidade mínima de noites está ultrapassando (e muito) os 365 dias do ano.\n",
        "* O número de avaliações tem 75% abaixo de 24, tendo seu valor máximo de 771.\n",
        "* O número de listagens feitas por um host, 75% é 7, porém seu valor máximo é 210.\n",
        "* O número de avaliações por item, 75% é até 9, e seu valor máximo 801."
      ],
      "metadata": {
        "id": "u2bB5xnMymkr"
      }
    },
    {
      "cell_type": "markdown",
      "source": [
        "#### Vamos agora identificar, através de boxplot, os outliers de cada variável."
      ],
      "metadata": {
        "id": "sZVl1Q_Z00Uw"
      }
    },
    {
      "cell_type": "markdown",
      "source": [
        "Boxplot para `price`"
      ],
      "metadata": {
        "id": "pLrTvcDs1Kfm"
      }
    },
    {
      "cell_type": "code",
      "source": [
        "df_clean.price.plot(kind='box', vert=False, figsize=(15, 3))\n",
        "plt.show()\n",
        "\n",
        "# Ver quantidade de imóveis acima de 1500\n",
        "print('\\nprice: valores acima de 1500')\n",
        "print('{} entradas'.format(len(df[df.price > 1500])))\n",
        "print('{:.2f}%'.format((len(df[df.price > 1500]) / df.shape[0])*100))"
      ],
      "metadata": {
        "colab": {
          "base_uri": "https://localhost:8080/",
          "height": 280
        },
        "id": "ke0AoyN91OL3",
        "outputId": "75147ac9-8772-4194-ca7a-56d4f1318f75"
      },
      "execution_count": null,
      "outputs": [
        {
          "output_type": "display_data",
          "data": {
            "text/plain": [
              "<Figure size 1080x216 with 1 Axes>"
            ],
            "image/png": "[encoded data removed]"
          },
          "metadata": {
            "needs_background": "light"
          }
        },
        {
          "output_type": "stream",
          "name": "stdout",
          "text": [
            "\n",
            "price: valores acima de 1500\n",
            "82 entradas\n",
            "0.59%\n"
          ]
        }
      ]
    },
    {
      "cell_type": "markdown",
      "source": [
        "Boxplot para `minimum_nights`\n",
        "\n",
        "Para analisar os outliers dessa variável, tomaremos como base imóveis com mínimo de 3 meses"
      ],
      "metadata": {
        "id": "L2RrwwHK2uPZ"
      }
    },
    {
      "cell_type": "code",
      "source": [
        "df_clean.minimum_nights.plot(kind='box', vert=False, figsize=(15, 3))\n",
        "plt.show()\n",
        "\n",
        "# Quantidade de valores acima de 90 dias\n",
        "print('\\nprice: valores acima de 90')\n",
        "print('{} entradas'.format(len(df[df.minimum_nights > 90])))\n",
        "print('{:.2f}%'.format((len(df[df.minimum_nights > 90]) / df.shape[0])*100))"
      ],
      "metadata": {
        "colab": {
          "base_uri": "https://localhost:8080/",
          "height": 280
        },
        "id": "gVdgzxWL21pL",
        "outputId": "745c2c12-4871-4cc5-ad94-962d8dddf84c"
      },
      "execution_count": null,
      "outputs": [
        {
          "output_type": "display_data",
          "data": {
            "text/plain": [
              "<Figure size 1080x216 with 1 Axes>"
            ],
            "image/png": "[encoded data removed]"
          },
          "metadata": {
            "needs_background": "light"
          }
        },
        {
          "output_type": "stream",
          "name": "stdout",
          "text": [
            "\n",
            "price: valores acima de 90\n",
            "256 entradas\n",
            "1.84%\n"
          ]
        }
      ]
    },
    {
      "cell_type": "markdown",
      "source": [
        "Boxplot para `numbers_of_reviews`\n",
        "\n",
        "Para verificar essa variável, vamos tomar como base valores acima de 365."
      ],
      "metadata": {
        "id": "U_0nkJ124HuW"
      }
    },
    {
      "cell_type": "code",
      "source": [
        "df_clean.number_of_reviews.plot(kind='box', vert=False, figsize=(15, 3))\n",
        "plt.show()\n",
        "\n",
        "# Quantidade de valores acima de 365 dias\n",
        "print('\\nnumber_of_reviews: valores acima de 365')\n",
        "print('{} entradas'.format(len(df[df.minimum_nights > 365])))\n",
        "print('{:.2f}%'.format((len(df[df.minimum_nights > 365]) / df.shape[0])*100))"
      ],
      "metadata": {
        "colab": {
          "base_uri": "https://localhost:8080/",
          "height": 280
        },
        "id": "2XCFM41G48lC",
        "outputId": "9d2f2d83-a885-440d-8412-744181e2c504"
      },
      "execution_count": null,
      "outputs": [
        {
          "output_type": "display_data",
          "data": {
            "text/plain": [
              "<Figure size 1080x216 with 1 Axes>"
            ],
            "image/png": "[encoded data removed]"
          },
          "metadata": {
            "needs_background": "light"
          }
        },
        {
          "output_type": "stream",
          "name": "stdout",
          "text": [
            "\n",
            "number_of_reviews: valores acima de 365\n",
            "15 entradas\n",
            "0.11%\n"
          ]
        }
      ]
    },
    {
      "cell_type": "markdown",
      "source": [
        "Boxplot para `calculated_host_listings_count`\n",
        "\n",
        "Vamos analisar os outliers, trazendo valores acima de 200"
      ],
      "metadata": {
        "id": "sN0-_iJP5JlK"
      }
    },
    {
      "cell_type": "code",
      "source": [
        "df_clean.calculated_host_listings_count.plot(kind='box', vert=False, figsize=(15, 3))\n",
        "plt.show()\n",
        "\n",
        "# Quantidade de valores acima de 200\n",
        "print('\\ncalculated_host_listings_count: valores acima de 200')\n",
        "print('{} entradas'.format(len(df[df.calculated_host_listings_count > 200])))\n",
        "print('{:.2f}%'.format((len(df[df.calculated_host_listings_count > 200]) / df.shape[0])*100))"
      ],
      "metadata": {
        "colab": {
          "base_uri": "https://localhost:8080/",
          "height": 280
        },
        "id": "DENG7Lvs5V3t",
        "outputId": "f0e800f7-693b-45f5-b751-0bcf86ba06ab"
      },
      "execution_count": null,
      "outputs": [
        {
          "output_type": "display_data",
          "data": {
            "text/plain": [
              "<Figure size 1080x216 with 1 Axes>"
            ],
            "image/png": "[encoded data removed]"
          },
          "metadata": {
            "needs_background": "light"
          }
        },
        {
          "output_type": "stream",
          "name": "stdout",
          "text": [
            "\n",
            "calculated_host_listings_count: valores acima de 200\n",
            "210 entradas\n",
            "1.51%\n"
          ]
        }
      ]
    },
    {
      "cell_type": "markdown",
      "source": [
        "Boxplot para `number_of_reviews_ltm`\n",
        "\n",
        "Para essa variável, vamos tomar como base valores acima de 100"
      ],
      "metadata": {
        "id": "z0DRz3Ii5rYH"
      }
    },
    {
      "cell_type": "code",
      "source": [
        "df_clean.number_of_reviews_ltm.plot(kind='box', vert=False, figsize=(15, 3))\n",
        "plt.show()\n",
        "\n",
        "# Quantidade de valores acima de 100\n",
        "print('\\nnumber_of_reviews_ltm: valores acima de 100')\n",
        "print('{} entradas'.format(len(df[df.number_of_reviews_ltm > 100])))\n",
        "print('{:.2f}%'.format((len(df[df.number_of_reviews_ltm > 100]) / df.shape[0])*100))"
      ],
      "metadata": {
        "colab": {
          "base_uri": "https://localhost:8080/",
          "height": 280
        },
        "id": "1nxGBMGj52y5",
        "outputId": "dce5f154-2545-4b40-a3cd-5a46411fa4e1"
      },
      "execution_count": null,
      "outputs": [
        {
          "output_type": "display_data",
          "data": {
            "text/plain": [
              "<Figure size 1080x216 with 1 Axes>"
            ],
            "image/png": "[encoded data removed]"
          },
          "metadata": {
            "needs_background": "light"
          }
        },
        {
          "output_type": "stream",
          "name": "stdout",
          "text": [
            "\n",
            "number_of_reviews_ltm: valores acima de 100\n",
            "40 entradas\n",
            "0.29%\n"
          ]
        }
      ]
    },
    {
      "cell_type": "markdown",
      "source": [
        "### **Limpando os Outliers e plotando novamente o Histograma**"
      ],
      "metadata": {
        "id": "GGOhMiZ46OkK"
      }
    },
    {
      "cell_type": "markdown",
      "source": [
        "Conforme analisado os outliers nas variáveis acima, faremos, agora, a limpeza desses outliers e plotar novamente o histograma. Serão removidos:\n",
        "\n",
        "* Valores acima de 1500 (variável `price`).\n",
        "* Valores acima de 90 (variável `minimum_nights`).\n",
        "* Valores acima de 365 (variável `number_of_reviews`).\n",
        "* Valores acima de 200 (variável `calculated_host_listings_count`).\n",
        "* Valores acima de 100 (variável `number_of_reviews_ltm`)."
      ],
      "metadata": {
        "id": "IQ-444SI6Uw1"
      }
    },
    {
      "cell_type": "code",
      "source": [
        "# Removendo Outliers\n",
        "\n",
        "df_clean.drop(df_clean[df_clean.price > 1500].index, axis=0, inplace=True)\n",
        "df_clean.drop(df_clean[df_clean.minimum_nights > 90].index, axis=0, inplace=True)\n",
        "df_clean.drop(df_clean[df_clean.number_of_reviews > 365].index, axis=0, inplace=True)\n",
        "df_clean.drop(df_clean[df_clean.calculated_host_listings_count > 200].index, axis=0, inplace=True)\n",
        "df_clean.drop(df_clean[df_clean.number_of_reviews_ltm > 100].index, axis=0, inplace=True)"
      ],
      "metadata": {
        "id": "qDCmMaK_7nC9"
      },
      "execution_count": null,
      "outputs": []
    },
    {
      "cell_type": "code",
      "source": [
        "# Plotando novamente o histograma\n",
        "\n",
        "df_clean.hist(bins=15, figsize=(15,10))"
      ],
      "metadata": {
        "colab": {
          "base_uri": "https://localhost:8080/",
          "height": 815
        },
        "id": "ZgxVsTgx8VuG",
        "outputId": "54a83c31-48ac-4d79-f66e-ed15550e888c"
      },
      "execution_count": null,
      "outputs": [
        {
          "output_type": "execute_result",
          "data": {
            "text/plain": [
              "array([[<AxesSubplot:title={'center':'id'}>,\n",
              "        <AxesSubplot:title={'center':'host_id'}>,\n",
              "        <AxesSubplot:title={'center':'latitude'}>],\n",
              "       [<AxesSubplot:title={'center':'longitude'}>,\n",
              "        <AxesSubplot:title={'center':'price'}>,\n",
              "        <AxesSubplot:title={'center':'minimum_nights'}>],\n",
              "       [<AxesSubplot:title={'center':'number_of_reviews'}>,\n",
              "        <AxesSubplot:title={'center':'reviews_per_month'}>,\n",
              "        <AxesSubplot:title={'center':'calculated_host_listings_count'}>],\n",
              "       [<AxesSubplot:title={'center':'availability_365'}>,\n",
              "        <AxesSubplot:title={'center':'number_of_reviews_ltm'}>,\n",
              "        <AxesSubplot:>]], dtype=object)"
            ]
          },
          "metadata": {},
          "execution_count": 40
        },
        {
          "output_type": "display_data",
          "data": {
            "text/plain": [
              "<Figure size 1080x720 with 12 Axes>"
            ],
            "image/png": "[encoded data removed]"
          },
          "metadata": {
            "needs_background": "light"
          }
        }
      ]
    },
    {
      "cell_type": "markdown",
      "source": [
        "Conforme podemos observar, os gráficos estão bem melhores distribuídos, trazendo mais precisão e veracidade para nossa análise."
      ],
      "metadata": {
        "id": "s492LVbT8cYp"
      }
    },
    {
      "cell_type": "markdown",
      "metadata": {
        "id": "7x4aw1j5wNmn"
      },
      "source": [
        "### **Q4. Qual a média dos preços de aluguel?**\n",
        "\n",
        "Agora, traremos a média dos valores cobrados em **Montreal**."
      ]
    },
    {
      "cell_type": "code",
      "metadata": {
        "id": "ff-8gUahLk-C",
        "colab": {
          "base_uri": "https://localhost:8080/"
        },
        "outputId": "6563b43f-9753-4ba2-cabb-2781ec79b856"
      },
      "source": [
        "# ver a média da coluna `price``\n",
        "mean_price = df_clean.price.mean()\n",
        "print('Média de preços em Montreal por noite: {:.2f}'.format(mean_price).replace('.',','))"
      ],
      "execution_count": null,
      "outputs": [
        {
          "output_type": "stream",
          "name": "stdout",
          "text": [
            "Média de preços em Montreal por noite: 129,63\n"
          ]
        }
      ]
    },
    {
      "cell_type": "markdown",
      "metadata": {
        "id": "IXn2oIo5qx-w"
      },
      "source": [
        "### **Q4. Qual a correlação existente entre as variáveis**\n",
        "\n",
        "De uma forma simplória, correlação a ligação recíproca ou correspondente que existe entre dois ou mais elementos. O conceito é usado de diferentes maneiras, de acordo com o contexto aplicado. Para adentrar mais profundamente nesse conceito, clique [aqui](https://conceito.de/correlacao).\n",
        "\n",
        "Abaixo segue a matriz de correlação das variáveis do *Dataset*. Assim como o *Heatmap* para melhor visualizar.\n",
        "Basicamente, quanto mais escuro for o azul, maior a correlação positiva. De mesmo modo, quanto mais escuro for o vermelho, maior a correlação negativa. Branco mostra que não há correlação."
      ]
    },
    {
      "cell_type": "code",
      "metadata": {
        "id": "x2ayzBajqxyd",
        "colab": {
          "base_uri": "https://localhost:8080/",
          "height": 333
        },
        "outputId": "279267fe-50cb-495c-b00a-f692737d6f4f"
      },
      "source": [
        "# criar uma matriz de correlação\n",
        "corr = df_clean[['price', 'minimum_nights', 'number_of_reviews', 'reviews_per_month','number_of_reviews_ltm', 'calculated_host_listings_count', 'availability_365']].corr()\n",
        "\n",
        "# mostrar a matriz de correlação\n",
        "display(corr)"
      ],
      "execution_count": null,
      "outputs": [
        {
          "output_type": "display_data",
          "data": {
            "text/plain": [
              "                                   price  minimum_nights  number_of_reviews  \\\n",
              "price                           1.000000       -0.087597           0.025726   \n",
              "minimum_nights                 -0.087597        1.000000          -0.073700   \n",
              "number_of_reviews               0.025726       -0.073700           1.000000   \n",
              "reviews_per_month               0.033941       -0.205842           0.411364   \n",
              "number_of_reviews_ltm           0.039541       -0.203520           0.646015   \n",
              "calculated_host_listings_count -0.029950        0.010000           0.023808   \n",
              "availability_365                0.153555        0.179235           0.081246   \n",
              "\n",
              "                                reviews_per_month  number_of_reviews_ltm  \\\n",
              "price                                    0.033941               0.039541   \n",
              "minimum_nights                          -0.205842              -0.203520   \n",
              "number_of_reviews                        0.411364               0.646015   \n",
              "reviews_per_month                        1.000000               0.730644   \n",
              "number_of_reviews_ltm                    0.730644               1.000000   \n",
              "calculated_host_listings_count           0.113939               0.138148   \n",
              "availability_365                         0.181502               0.155483   \n",
              "\n",
              "                                calculated_host_listings_count  \\\n",
              "price                                                -0.029950   \n",
              "minimum_nights                                        0.010000   \n",
              "number_of_reviews                                     0.023808   \n",
              "reviews_per_month                                     0.113939   \n",
              "number_of_reviews_ltm                                 0.138148   \n",
              "calculated_host_listings_count                        1.000000   \n",
              "availability_365                                      0.186580   \n",
              "\n",
              "                                availability_365  \n",
              "price                                   0.153555  \n",
              "minimum_nights                          0.179235  \n",
              "number_of_reviews                       0.081246  \n",
              "reviews_per_month                       0.181502  \n",
              "number_of_reviews_ltm                   0.155483  \n",
              "calculated_host_listings_count          0.186580  \n",
              "availability_365                        1.000000  "
            ],
            "text/html": [
              "\n",
              "  <div id=\"df-33507c1d-f440-43c0-a148-3f7d49e2fe31\">\n",
              "    <div class=\"colab-df-container\">\n",
              "      <div>\n",
              "<style scoped>\n",
              "    .dataframe tbody tr th:only-of-type {\n",
              "        vertical-align: middle;\n",
              "    }\n",
              "\n",
              "    .dataframe tbody tr th {\n",
              "        vertical-align: top;\n",
              "    }\n",
              "\n",
              "    .dataframe thead th {\n",
              "        text-align: right;\n",
              "    }\n",
              "</style>\n",
              "<table border=\"1\" class=\"dataframe\">\n",
              "  <thead>\n",
              "    <tr style=\"text-align: right;\">\n",
              "      <th></th>\n",
              "      <th>price</th>\n",
              "      <th>minimum_nights</th>\n",
              "      <th>number_of_reviews</th>\n",
              "      <th>reviews_per_month</th>\n",
              "      <th>number_of_reviews_ltm</th>\n",
              "      <th>calculated_host_listings_count</th>\n",
              "      <th>availability_365</th>\n",
              "    </tr>\n",
              "  </thead>\n",
              "  <tbody>\n",
              "    <tr>\n",
              "      <th>price</th>\n",
              "      <td>1.000000</td>\n",
              "      <td>-0.087597</td>\n",
              "      <td>0.025726</td>\n",
              "      <td>0.033941</td>\n",
              "      <td>0.039541</td>\n",
              "      <td>-0.029950</td>\n",
              "      <td>0.153555</td>\n",
              "    </tr>\n",
              "    <tr>\n",
              "      <th>minimum_nights</th>\n",
              "      <td>-0.087597</td>\n",
              "      <td>1.000000</td>\n",
              "      <td>-0.073700</td>\n",
              "      <td>-0.205842</td>\n",
              "      <td>-0.203520</td>\n",
              "      <td>0.010000</td>\n",
              "      <td>0.179235</td>\n",
              "    </tr>\n",
              "    <tr>\n",
              "      <th>number_of_reviews</th>\n",
              "      <td>0.025726</td>\n",
              "      <td>-0.073700</td>\n",
              "      <td>1.000000</td>\n",
              "      <td>0.411364</td>\n",
              "      <td>0.646015</td>\n",
              "      <td>0.023808</td>\n",
              "      <td>0.081246</td>\n",
              "    </tr>\n",
              "    <tr>\n",
              "      <th>reviews_per_month</th>\n",
              "      <td>0.033941</td>\n",
              "      <td>-0.205842</td>\n",
              "      <td>0.411364</td>\n",
              "      <td>1.000000</td>\n",
              "      <td>0.730644</td>\n",
              "      <td>0.113939</td>\n",
              "      <td>0.181502</td>\n",
              "    </tr>\n",
              "    <tr>\n",
              "      <th>number_of_reviews_ltm</th>\n",
              "      <td>0.039541</td>\n",
              "      <td>-0.203520</td>\n",
              "      <td>0.646015</td>\n",
              "      <td>0.730644</td>\n",
              "      <td>1.000000</td>\n",
              "      <td>0.138148</td>\n",
              "      <td>0.155483</td>\n",
              "    </tr>\n",
              "    <tr>\n",
              "      <th>calculated_host_listings_count</th>\n",
              "      <td>-0.029950</td>\n",
              "      <td>0.010000</td>\n",
              "      <td>0.023808</td>\n",
              "      <td>0.113939</td>\n",
              "      <td>0.138148</td>\n",
              "      <td>1.000000</td>\n",
              "      <td>0.186580</td>\n",
              "    </tr>\n",
              "    <tr>\n",
              "      <th>availability_365</th>\n",
              "      <td>0.153555</td>\n",
              "      <td>0.179235</td>\n",
              "      <td>0.081246</td>\n",
              "      <td>0.181502</td>\n",
              "      <td>0.155483</td>\n",
              "      <td>0.186580</td>\n",
              "      <td>1.000000</td>\n",
              "    </tr>\n",
              "  </tbody>\n",
              "</table>\n",
              "</div>\n",
              "      <button class=\"colab-df-convert\" onclick=\"convertToInteractive('df-33507c1d-f440-43c0-a148-3f7d49e2fe31')\"\n",
              "              title=\"Convert this dataframe to an interactive table.\"\n",
              "              style=\"display:none;\">\n",
              "        \n",
              "  <svg xmlns=\"http://www.w3.org/2000/svg\" height=\"24px\"viewBox=\"0 0 24 24\"\n",
              "       width=\"24px\">\n",
              "    <path d=\"M0 0h24v24H0V0z\" fill=\"none\"/>\n",
              "    <path d=\"M18.56 5.44l.94 2.06.94-2.06 2.06-.94-2.06-.94-.94-2.06-.94 2.06-2.06.94zm-11 1L8.5 8.5l.94-2.06 2.06-.94-2.06-.94L8.5 2.5l-.94 2.06-2.06.94zm10 10l.94 2.06.94-2.06 2.06-.94-2.06-.94-.94-2.06-.94 2.06-2.06.94z\"/><path d=\"M17.41 7.96l-1.37-1.37c-.4-.4-.92-.59-1.43-.59-.52 0-1.04.2-1.43.59L10.3 9.45l-7.72 7.72c-.78.78-.78 2.05 0 2.83L4 21.41c.39.39.9.59 1.41.59.51 0 1.02-.2 1.41-.59l7.78-7.78 2.81-2.81c.8-.78.8-2.07 0-2.86zM5.41 20L4 18.59l7.72-7.72 1.47 1.35L5.41 20z\"/>\n",
              "  </svg>\n",
              "      </button>\n",
              "      \n",
              "  <style>\n",
              "    .colab-df-container {\n",
              "      display:flex;\n",
              "      flex-wrap:wrap;\n",
              "      gap: 12px;\n",
              "    }\n",
              "\n",
              "    .colab-df-convert {\n",
              "      background-color: #E8F0FE;\n",
              "      border: none;\n",
              "      border-radius: 50%;\n",
              "      cursor: pointer;\n",
              "      display: none;\n",
              "      fill: #1967D2;\n",
              "      height: 32px;\n",
              "      padding: 0 0 0 0;\n",
              "      width: 32px;\n",
              "    }\n",
              "\n",
              "    .colab-df-convert:hover {\n",
              "      background-color: #E2EBFA;\n",
              "      box-shadow: 0px 1px 2px rgba(60, 64, 67, 0.3), 0px 1px 3px 1px rgba(60, 64, 67, 0.15);\n",
              "      fill: #174EA6;\n",
              "    }\n",
              "\n",
              "    [theme=dark] .colab-df-convert {\n",
              "      background-color: #3B4455;\n",
              "      fill: #D2E3FC;\n",
              "    }\n",
              "\n",
              "    [theme=dark] .colab-df-convert:hover {\n",
              "      background-color: #434B5C;\n",
              "      box-shadow: 0px 1px 3px 1px rgba(0, 0, 0, 0.15);\n",
              "      filter: drop-shadow(0px 1px 2px rgba(0, 0, 0, 0.3));\n",
              "      fill: #FFFFFF;\n",
              "    }\n",
              "  </style>\n",
              "\n",
              "      <script>\n",
              "        const buttonEl =\n",
              "          document.querySelector('#df-33507c1d-f440-43c0-a148-3f7d49e2fe31 button.colab-df-convert');\n",
              "        buttonEl.style.display =\n",
              "          google.colab.kernel.accessAllowed ? 'block' : 'none';\n",
              "\n",
              "        async function convertToInteractive(key) {\n",
              "          const element = document.querySelector('#df-33507c1d-f440-43c0-a148-3f7d49e2fe31');\n",
              "          const dataTable =\n",
              "            await google.colab.kernel.invokeFunction('convertToInteractive',\n",
              "                                                     [key], {});\n",
              "          if (!dataTable) return;\n",
              "\n",
              "          const docLinkHtml = 'Like what you see? Visit the ' +\n",
              "            '<a target=\"_blank\" href=https://colab.research.google.com/notebooks/data_table.ipynb>data table notebook</a>'\n",
              "            + ' to learn more about interactive tables.';\n",
              "          element.innerHTML = '';\n",
              "          dataTable['output_type'] = 'display_data';\n",
              "          await google.colab.output.renderOutput(dataTable, element);\n",
              "          const docLink = document.createElement('div');\n",
              "          docLink.innerHTML = docLinkHtml;\n",
              "          element.appendChild(docLink);\n",
              "        }\n",
              "      </script>\n",
              "    </div>\n",
              "  </div>\n",
              "  "
            ]
          },
          "metadata": {}
        }
      ]
    },
    {
      "cell_type": "code",
      "metadata": {
        "id": "91UujDr6ueqE",
        "colab": {
          "base_uri": "https://localhost:8080/",
          "height": 411
        },
        "outputId": "80560ffd-dd51-4a4f-8495-9fd2be028b08"
      },
      "source": [
        "# plotar um heatmap a partir das correlações\n",
        "sns.heatmap(corr, vmin=-1.0, vmax=1.0, cmap='RdBu', fmt='.2f', square=True, linecolor='white', annot=True);"
      ],
      "execution_count": null,
      "outputs": [
        {
          "output_type": "display_data",
          "data": {
            "text/plain": [
              "<Figure size 432x288 with 2 Axes>"
            ],
            "image/png": "[encoded data removed]"
          },
          "metadata": {
            "needs_background": "light"
          }
        }
      ]
    },
    {
      "cell_type": "markdown",
      "source": [
        "Finalizada a análise exploratória dos dados, trarei algumas respostas de perguntas que surgiram durante a análise. Vamos lá!"
      ],
      "metadata": {
        "id": "nAH9ai9_DMoF"
      }
    },
    {
      "cell_type": "markdown",
      "metadata": {
        "id": "7b6RMWpuHKN-"
      },
      "source": [
        "### **Q5. Qual o tipo de imóvel mais alugado no Airbnb?**\n",
        "\n",
        "Para responder essa pergunta, utilizaremos a coluna `room_type`. Primeiramente, iremos verificar os valores únicos dos tipos de imóveis. Depois, verificaremos a quantidade de ocorrências de cada tipo."
      ]
    },
    {
      "cell_type": "code",
      "source": [
        "# Tipos de imóveis com seus valores únicos\n",
        "df_clean.room_type.unique()"
      ],
      "metadata": {
        "colab": {
          "base_uri": "https://localhost:8080/"
        },
        "id": "iHtd6TnHEJAn",
        "outputId": "b7be4416-a464-49b2-b698-c3e443387728"
      },
      "execution_count": null,
      "outputs": [
        {
          "output_type": "execute_result",
          "data": {
            "text/plain": [
              "array(['Entire home/apt', 'Private room', 'Shared room', 'Hotel room'],\n",
              "      dtype=object)"
            ]
          },
          "metadata": {},
          "execution_count": 53
        }
      ]
    },
    {
      "cell_type": "code",
      "metadata": {
        "id": "ueLPNWvPHgfB",
        "colab": {
          "base_uri": "https://localhost:8080/"
        },
        "outputId": "dc380d33-b0d1-444f-90d0-bc04d0363437"
      },
      "source": [
        "# mostrando a quantidade de cada tipo de imóvel disponível\n",
        "df_clean.room_type.value_counts()"
      ],
      "execution_count": null,
      "outputs": [
        {
          "output_type": "execute_result",
          "data": {
            "text/plain": [
              "Entire home/apt    10154\n",
              "Private room        3044\n",
              "Shared room           76\n",
              "Hotel room            27\n",
              "Name: room_type, dtype: int64"
            ]
          },
          "metadata": {},
          "execution_count": 54
        }
      ]
    },
    {
      "cell_type": "code",
      "metadata": {
        "id": "EvwoO-XAHhIm",
        "colab": {
          "base_uri": "https://localhost:8080/",
          "height": 352
        },
        "outputId": "3474d994-1c17-4c9b-b6aa-17202cd81e64"
      },
      "source": [
        "# mostrar a porcentagem de cada tipo de imóvel disponível\n",
        "df_clean.room_type.hist()\n",
        "df_clean.room_type.value_counts() / df_clean.shape[0]*100"
      ],
      "execution_count": null,
      "outputs": [
        {
          "output_type": "execute_result",
          "data": {
            "text/plain": [
              "Entire home/apt    76.340125\n",
              "Private room       22.885497\n",
              "Shared room         0.571386\n",
              "Hotel room          0.202992\n",
              "Name: room_type, dtype: float64"
            ]
          },
          "metadata": {},
          "execution_count": 58
        },
        {
          "output_type": "display_data",
          "data": {
            "text/plain": [
              "<Figure size 432x288 with 1 Axes>"
            ],
            "image/png": "[encoded data removed]"
          },
          "metadata": {
            "needs_background": "light"
          }
        }
      ]
    },
    {
      "cell_type": "markdown",
      "source": [
        "Com essa análise, podemos notar que o tipo `Entire home/apt`é a grande queridinha de quem deseja se hospedar em **Montreal**.\n",
        "\n",
        "* 76% Entire Home/Apt (10.104 unidades).\n",
        "* 22% Private Room (3.044 unidades).\n",
        "* 0,5% Shared Room (76 unidades).\n",
        "* 0,2% Hotel Room (27 unidades)."
      ],
      "metadata": {
        "id": "bJ6PdAGWFRsk"
      }
    },
    {
      "cell_type": "markdown",
      "metadata": {
        "id": "MFa5NbnLJMcd"
      },
      "source": [
        "### **Q6. Qual a localidade mais cara de Montreal?**\n",
        "\n",
        "Utilizaremos a coluna `neighbourhood`para responder essa questão.\n",
        "\n"
      ]
    },
    {
      "cell_type": "code",
      "metadata": {
        "id": "MD_xa143JZpi",
        "colab": {
          "base_uri": "https://localhost:8080/"
        },
        "outputId": "55c014ef-41f6-4120-eaf9-bf4c8535e429"
      },
      "source": [
        "# ver preços por bairros, na média\n",
        "df_max = (df_clean.groupby('neighbourhood')['price'].max()).sort_values(ascending=False)\n",
        "\n",
        "print('Valores: {}'.format(df_max))"
      ],
      "execution_count": null,
      "outputs": [
        {
          "output_type": "stream",
          "name": "stdout",
          "text": [
            "Valores: neighbourhood\n",
            "Le Plateau-Mont-Royal                       1500\n",
            "Ville-Marie                                 1500\n",
            "Le Sud-Ouest                                1500\n",
            "Côte-des-Neiges-Notre-Dame-de-Grâce         1499\n",
            "Rosemont-La Petite-Patrie                   1473\n",
            "Hampstead                                   1400\n",
            "Mercier-Hochelaga-Maisonneuve               1350\n",
            "Côte-Saint-Luc                              1200\n",
            "Verdun                                      1200\n",
            "Dollard-des-Ormeaux                         1085\n",
            "Saint-Laurent                               1031\n",
            "Montréal-Nord                               1000\n",
            "Westmount                                   1000\n",
            "Outremont                                   1000\n",
            "LaSalle                                      989\n",
            "Lachine                                      950\n",
            "Pointe-Claire                                887\n",
            "Saint-Léonard                                868\n",
            "Rivière-des-Prairies-Pointe-aux-Trembles     854\n",
            "Villeray-Saint-Michel-Parc-Extension         849\n",
            "Ahuntsic-Cartierville                        557\n",
            "L'Île-Bizard-Sainte-Geneviève                557\n",
            "Beaconsfield                                 524\n",
            "Dorval                                       468\n",
            "Mont-Royal                                   381\n",
            "Baie-d'Urfé                                  371\n",
            "Sainte-Anne-de-Bellevue                      327\n",
            "Montréal-Est                                 320\n",
            "Pierrefonds-Roxboro                          300\n",
            "Anjou                                        300\n",
            "Montréal-Ouest                               250\n",
            "Kirkland                                     189\n",
            "Senneville                                   123\n",
            "Name: price, dtype: int64\n"
          ]
        }
      ]
    },
    {
      "cell_type": "code",
      "metadata": {
        "id": "UxVJqJ_3W59I",
        "colab": {
          "base_uri": "https://localhost:8080/",
          "height": 472
        },
        "outputId": "f04faa44-c8fd-40d4-c641-0622d2b99327"
      },
      "source": [
        "# plotar os imóveis pela latitude-longitude\n",
        "df_clean.plot(kind='scatter', x='longitude', y='latitude', alpha=0.4, c=df_clean['price'], s=8,\n",
        "              cmap=plt.get_cmap('jet'), figsize=(12, 8));"
      ],
      "execution_count": null,
      "outputs": [
        {
          "output_type": "display_data",
          "data": {
            "text/plain": [
              "<Figure size 864x576 with 2 Axes>"
            ],
            "image/png": "[encoded data removed]"
          },
          "metadata": {
            "needs_background": "light"
          }
        }
      ]
    },
    {
      "cell_type": "markdown",
      "metadata": {
        "id": "vTneAMRUYvr1"
      },
      "source": [
        "### **Q7. Qual é a média do mínimo de noites para aluguel (minimum_nights)?**"
      ]
    },
    {
      "cell_type": "code",
      "metadata": {
        "id": "_VzNhrEgY82N",
        "colab": {
          "base_uri": "https://localhost:8080/"
        },
        "outputId": "f97bb351-db58-4901-f4b8-d64b6136889b"
      },
      "source": [
        "# ver a média da coluna `minimum_nights``\n",
        "df_clean['minimum_nights'].mean()"
      ],
      "execution_count": null,
      "outputs": [
        {
          "output_type": "execute_result",
          "data": {
            "text/plain": [
              "10.106608525674762"
            ]
          },
          "metadata": {},
          "execution_count": 61
        }
      ]
    },
    {
      "cell_type": "code",
      "source": [
        "df_clean.minimum_nights.hist(bins=15, figsize=(10, 3), color='blue')"
      ],
      "metadata": {
        "colab": {
          "base_uri": "https://localhost:8080/",
          "height": 228
        },
        "id": "M06tBxVKJ1pj",
        "outputId": "516e762a-5aa0-497f-a6ff-db2bed7d3f4e"
      },
      "execution_count": null,
      "outputs": [
        {
          "output_type": "execute_result",
          "data": {
            "text/plain": [
              "<AxesSubplot:>"
            ]
          },
          "metadata": {},
          "execution_count": 62
        },
        {
          "output_type": "display_data",
          "data": {
            "text/plain": [
              "<Figure size 720x216 with 1 Axes>"
            ],
            "image/png": "[encoded data removed]"
          },
          "metadata": {
            "needs_background": "light"
          }
        }
      ]
    },
    {
      "cell_type": "markdown",
      "source": [
        "Como podemos observar, o valor mínimo de noites em **Montreal** é de 10 dias, aproximadamente!"
      ],
      "metadata": {
        "id": "8XKPVh6uKQnh"
      }
    },
    {
      "cell_type": "markdown",
      "metadata": {
        "id": "GkvAg623RjoR"
      },
      "source": [
        "## Conclusões\n"
      ]
    },
    {
      "cell_type": "markdown",
      "source": [
        "Apesar de ter sido realizada apenas uma análise superficial desse dataset, consegui obter informações realmente de valor da cidade de **Montreal**.\n",
        "\n",
        "De uma maneira mais técnica, consegui importar os dados necessários para a análise, assim como as bibliotecas do python. Realizei uma exploração desses dados, analisando e limpando informações que poderiam influenciar negativamente nossos resultados.\n",
        "\n",
        "Da análise exploratória, conseguir obter: Resumos estatísticos das variáveis, os bairros mais alugados, a localidade mais cara para se alugar, média do mínimo de noites, além da visualização por latitude e longitude de onde se encontra o maior número de hospedagens.\n",
        "\n",
        "De uma maneira geral, pude mostrar como a análise exploratória de dados contribui no dia a dia, trazendo informaçõe precisas para uma tomada de decisão."
      ],
      "metadata": {
        "id": "zHZQA4IWKmfB"
      }
    }
  ]
}